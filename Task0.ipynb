{
 "cells": [
  {
   "cell_type": "markdown",
   "metadata": {},
   "source": [
    "## Task 0 Git \n",
    "\n",
    "### Git的认识\n",
    "\n",
    "### [Git的安装](https://www.liaoxuefeng.com/wiki/896043488029600/896067074338496) （Mac已安装）"
   ]
  },
  {
   "cell_type": "code",
   "execution_count": null,
   "metadata": {},
   "outputs": [],
   "source": [
    "# 安装后，需要进一步设置\n",
    "git config --global user.name \"ZRChao\"\n",
    "git config --global user.email \"Supdream8@sjtu.edu.cn\""
   ]
  },
  {
   "cell_type": "code",
   "execution_count": null,
   "metadata": {},
   "outputs": [],
   "source": [
    "# 创建库, 进入某目录下\n",
    "cd /Users/zhouchao/Books/8数据分析\n",
    "git init\n",
    "ls -ah # 看到.git， 不要手动修改"
   ]
  },
  {
   "cell_type": "code",
   "execution_count": null,
   "metadata": {},
   "outputs": [],
   "source": [
    "git add Task0.ipynb \n",
    "git commit -m 'task0' # 告诉Git，把文件提交到仓库并做说明-m\n",
    "#[master（根提交） 3603c24] task0\n",
    "# 1 file changed, 59 insertions(+)\n",
    "# create mode 100644 Task0.ipynb"
   ]
  },
  {
   "cell_type": "code",
   "execution_count": null,
   "metadata": {},
   "outputs": [],
   "source": [
    "git status  # 命令可以让我们时刻掌握仓库当前的状态\n",
    "位于分支 master\n",
    "尚未暂存以备提交的变更：\n",
    "  （使用 \"git add <文件>...\" 更新要提交的内容）\n",
    "  （使用 \"git checkout -- <文件>...\" 丢弃工作区的改动）\n",
    "\n",
    "\t修改：     Task0.ipynb\n",
    "\n",
    "未跟踪的文件:\n",
    "  （使用 \"git add <文件>...\" 以包含要提交的内容）\n",
    "\n",
    "\t Python_Data_ Analysis(2017).epub\n",
    "\t.ipynb_checkpoints/\n",
    "\tPython_for_Data_Analysis_Chinese_version.pdf\n",
    "\tPython_for_Data_Analysis_English_version.pdf\n",
    "\n",
    "修改尚未加入提交（使用 \"git add\" 和/或 \"git commit -a\"）"
   ]
  },
  {
   "cell_type": "code",
   "execution_count": null,
   "metadata": {},
   "outputs": [],
   "source": [
    "git diff Task0.ipynb \n",
    "diff --git a/Task0.ipynb b/Task0.ipynb\n",
    "index 72f6954..521cde4 100644\n",
    "--- a/Task0.ipynb\n",
    "+++ b/Task0.ipynb\n",
    "@@ -33,6 +33,44 @@\n",
    "     \"git init\\n\",\n",
    "     \"ls -ah # 看到.git， 不要手动修改\"\n",
    "    ]\n",
    "+  },\n",
    "+  {\n",
    "+   \"cell_type\": \"code\",\n",
    "+   \"execution_count\": null,\n",
    "+   \"metadata\": {},\n",
    "+   \"outputs\": [],\n",
    "+   \"source\": [\n",
    "+    \"git add Task0.ipynb \\n\",\n",
    "+    \"git commit -m 'task0' # 告诉Git，把文件提交到仓库并做说明-m\\n\",\n",
    "+    \"#[master（根提交） 3603c24] task0\\n\",\n",
    "+    \"# 1 file changed, 59 insertions(+)\\n\",\n",
    "+    \"# create mode 100644 Task0.ipynb\"\n",
    "+   ]\n",
    "+  },\n",
    "+ ----"
   ]
  },
  {
   "cell_type": "code",
   "execution_count": null,
   "metadata": {},
   "outputs": [],
   "source": [
    "git add Task0.ipynb \n",
    "git commit -m 'task0'\n",
    "#[master 5aa98ed] task0\n",
    "# 1 file changed, 77 insertions(+)\n",
    "git status"
   ]
  },
  {
   "cell_type": "code",
   "execution_count": null,
   "metadata": {},
   "outputs": [],
   "source": [
    "git log # 历史记录 --pretty=oneline 可以查看提交历史，以便确定要回退到哪个版本。\n",
    "\n",
    "commit 5aa98ede871cc1e47313717b46096d1bbf385399 (HEAD -> master)\n",
    "Author: ZRChao <Supdream8@sjtu.edu.cn>\n",
    "Date:   Mon Jun 24 14:41:04 2019 +0800\n",
    "\n",
    "    task0\n",
    "\n",
    "commit 3603c2499675f31f57b7099d337b10ebca10b0d9\n",
    "Author: ZRChao <Supdream8@sjtu.edu.cn>\n",
    "Date:   Mon Jun 24 14:29:19 2019 +0800\n",
    "\n",
    "    task0"
   ]
  },
  {
   "cell_type": "code",
   "execution_count": null,
   "metadata": {},
   "outputs": [],
   "source": [
    "git reset --hard HEAD^ # 退回上一个版本 HEAD~100 退100个版本\n",
    "git reset --hard 5aa98ede871cc1e4 # 返回某个版本\n",
    "git reflog # 查看命令历史，以便确定要回到未来的哪个版本。"
   ]
  },
  {
   "cell_type": "markdown",
   "metadata": {},
   "source": [
    "- 场景1：当你改乱了工作区某个文件的内容，想直接丢弃工作区的修改时，用命令git checkout -- file。\n",
    "\n",
    "- 场景2：当你不但改乱了工作区某个文件的内容，还添加到了暂存区时，想丢弃修改，分两步，第一步用命令git reset HEAD file，就回到了场景1，第二步按场景1操作。\n",
    "\n",
    "- 场景3：已经提交了不合适的修改到版本库时，想要撤销本次提交，参考版本回退一节，不过前提是没有推送到远程库。"
   ]
  },
  {
   "cell_type": "code",
   "execution_count": 1,
   "metadata": {},
   "outputs": [],
   "source": [
    "# Git和其他版本控制系统如SVN的一个不同之处就是有暂存区的概念\n",
    "# Git管理的是修改, 修改后git add 放入暂存区，git commit提交到分支"
   ]
  },
  {
   "cell_type": "code",
   "execution_count": null,
   "metadata": {},
   "outputs": [],
   "source": [
    "# 连接github，将主目录下.ssh/id_rsa.pub 粘贴到github的ssh key中\n",
    "# 把一个已有的本地仓库与之关联，然后，把本地仓库的内容推送到GitHub仓库\n",
    "git remote add python https://github.com/ZRChao/ZR_Python.git\n",
    "git push -u python master # 第一次\n",
    "\n",
    "git push python master # https://blog.csdn.net/qq_30581017/article/details/79004665"
   ]
  }
 ],
 "metadata": {
  "kernelspec": {
   "display_name": "Python 3",
   "language": "python",
   "name": "python3"
  },
  "language_info": {
   "codemirror_mode": {
    "name": "ipython",
    "version": 3
   },
   "file_extension": ".py",
   "mimetype": "text/x-python",
   "name": "python",
   "nbconvert_exporter": "python",
   "pygments_lexer": "ipython3",
   "version": "3.6.4"
  }
 },
 "nbformat": 4,
 "nbformat_minor": 2
}
