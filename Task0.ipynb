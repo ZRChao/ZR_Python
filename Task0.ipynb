{
 "cells": [
  {
   "cell_type": "markdown",
   "metadata": {},
   "source": [
    "## Task 0 Git \n",
    "\n",
    "### Git的认识\n",
    "\n",
    "### [Git的安装](https://www.liaoxuefeng.com/wiki/896043488029600/896067074338496) （Mac已安装）"
   ]
  },
  {
   "cell_type": "code",
   "execution_count": null,
   "metadata": {},
   "outputs": [],
   "source": [
    "# 安装后，需要进一步设置\n",
    "git config --global user.name \"ZRChao\"\n",
    "git config --global user.email \"Supdream8@sjtu.edu.cn\""
   ]
  },
  {
   "cell_type": "code",
   "execution_count": null,
   "metadata": {},
   "outputs": [],
   "source": [
    "# 创建库, 进入某目录下\n",
    "cd /Users/zhouchao/Books/8数据分析\n",
    "git init\n",
    "ls -ah # 看到.git， 不要手动修改"
   ]
  }
 ],
 "metadata": {
  "kernelspec": {
   "display_name": "Python 3",
   "language": "python",
   "name": "python3"
  },
  "language_info": {
   "codemirror_mode": {
    "name": "ipython",
    "version": 3
   },
   "file_extension": ".py",
   "mimetype": "text/x-python",
   "name": "python",
   "nbconvert_exporter": "python",
   "pygments_lexer": "ipython3",
   "version": "3.6.4"
  }
 },
 "nbformat": 4,
 "nbformat_minor": 2
}
